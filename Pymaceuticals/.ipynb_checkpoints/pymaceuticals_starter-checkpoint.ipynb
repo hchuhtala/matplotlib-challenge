{
 "cells": [
  {
   "cell_type": "markdown",
   "metadata": {},
   "source": [
    "## Observations and Insights "
   ]
  },
  {
   "cell_type": "markdown",
   "metadata": {},
   "source": []
  },
  {
   "cell_type": "code",
   "execution_count": 1,
   "metadata": {},
   "outputs": [],
   "source": [
    "# Dependencies and Setup\n",
    "import matplotlib.pyplot as plt\n",
    "import pandas as pd\n",
    "import scipy.stats as st\n",
    "from scipy.stats import linregress\n",
    "\n",
    "plt.rcParams['font.size'] = 12.0\n",
    "# Study data files\n",
    "mouse_metadata_path = \"data/Mouse_metadata.csv\"\n",
    "study_results_path = \"data/Study_results.csv\"\n",
    "\n",
    "# Read the mouse data and the study results\n",
    "mouse_metadata = pd.read_csv(mouse_metadata_path)\n",
    "study_results = pd.read_csv(study_results_path)\n",
    "\n",
    "# Combine the data into a single dataset\n",
    "combine_df = mouse_metadata.merge(study_results, on = \"Mouse ID\", how=\"outer\")\n",
    "#combine_df.head(10)\n",
    "#mouse_metadata.head(10)\n"
   ]
  },
  {
   "cell_type": "code",
   "execution_count": 28,
   "metadata": {},
   "outputs": [
    {
     "name": "stdout",
     "output_type": "stream",
     "text": [
      "249 249\n",
      "1893 249\n",
      "1893 249\n"
     ]
    }
   ],
   "source": [
    "# Checking the number of mice in the DataFrame.\n",
    "mice = mouse_metadata[\"Mouse ID\"].count()\n",
    "micen = mouse_metadata[\"Mouse ID\"].nunique()\n",
    "amice = study_results[\"Mouse ID\"].count()\n",
    "amicen = study_results[\"Mouse ID\"].nunique()\n",
    "bmice = combine_df[\"Mouse ID\"].count()\n",
    "bmicen = combine_df[\"Mouse ID\"].nunique()\n",
    "print(mice, micen)\n",
    "print(amice, amicen)\n",
    "print(bmice, bmicen)"
   ]
  },
  {
   "cell_type": "code",
   "execution_count": 27,
   "metadata": {},
   "outputs": [
    {
     "name": "stdout",
     "output_type": "stream",
     "text": [
      "1892\n",
      "249\n",
      "1892\n",
      "249\n",
      ".drop_duplicates and .duplicated both result in the same number of records and unique mice\n"
     ]
    },
    {
     "data": {
      "text/html": [
       "<div>\n",
       "<style scoped>\n",
       "    .dataframe tbody tr th:only-of-type {\n",
       "        vertical-align: middle;\n",
       "    }\n",
       "\n",
       "    .dataframe tbody tr th {\n",
       "        vertical-align: top;\n",
       "    }\n",
       "\n",
       "    .dataframe thead th {\n",
       "        text-align: right;\n",
       "    }\n",
       "</style>\n",
       "<table border=\"1\" class=\"dataframe\">\n",
       "  <thead>\n",
       "    <tr style=\"text-align: right;\">\n",
       "      <th></th>\n",
       "      <th>Mouse ID</th>\n",
       "      <th>Drug Regimen</th>\n",
       "      <th>Sex</th>\n",
       "      <th>Age_months</th>\n",
       "      <th>Weight (g)</th>\n",
       "      <th>Timepoint</th>\n",
       "      <th>Tumor Volume (mm3)</th>\n",
       "      <th>Metastatic Sites</th>\n",
       "    </tr>\n",
       "  </thead>\n",
       "  <tbody>\n",
       "    <tr>\n",
       "      <td>0</td>\n",
       "      <td>k403</td>\n",
       "      <td>Ramicane</td>\n",
       "      <td>Male</td>\n",
       "      <td>21</td>\n",
       "      <td>16</td>\n",
       "      <td>0</td>\n",
       "      <td>45.000000</td>\n",
       "      <td>0</td>\n",
       "    </tr>\n",
       "    <tr>\n",
       "      <td>1</td>\n",
       "      <td>k403</td>\n",
       "      <td>Ramicane</td>\n",
       "      <td>Male</td>\n",
       "      <td>21</td>\n",
       "      <td>16</td>\n",
       "      <td>5</td>\n",
       "      <td>38.825898</td>\n",
       "      <td>0</td>\n",
       "    </tr>\n",
       "    <tr>\n",
       "      <td>2</td>\n",
       "      <td>k403</td>\n",
       "      <td>Ramicane</td>\n",
       "      <td>Male</td>\n",
       "      <td>21</td>\n",
       "      <td>16</td>\n",
       "      <td>10</td>\n",
       "      <td>35.014271</td>\n",
       "      <td>1</td>\n",
       "    </tr>\n",
       "    <tr>\n",
       "      <td>3</td>\n",
       "      <td>k403</td>\n",
       "      <td>Ramicane</td>\n",
       "      <td>Male</td>\n",
       "      <td>21</td>\n",
       "      <td>16</td>\n",
       "      <td>15</td>\n",
       "      <td>34.223992</td>\n",
       "      <td>1</td>\n",
       "    </tr>\n",
       "    <tr>\n",
       "      <td>4</td>\n",
       "      <td>k403</td>\n",
       "      <td>Ramicane</td>\n",
       "      <td>Male</td>\n",
       "      <td>21</td>\n",
       "      <td>16</td>\n",
       "      <td>20</td>\n",
       "      <td>32.997729</td>\n",
       "      <td>1</td>\n",
       "    </tr>\n",
       "    <tr>\n",
       "      <td>5</td>\n",
       "      <td>k403</td>\n",
       "      <td>Ramicane</td>\n",
       "      <td>Male</td>\n",
       "      <td>21</td>\n",
       "      <td>16</td>\n",
       "      <td>25</td>\n",
       "      <td>33.464577</td>\n",
       "      <td>1</td>\n",
       "    </tr>\n",
       "    <tr>\n",
       "      <td>6</td>\n",
       "      <td>k403</td>\n",
       "      <td>Ramicane</td>\n",
       "      <td>Male</td>\n",
       "      <td>21</td>\n",
       "      <td>16</td>\n",
       "      <td>30</td>\n",
       "      <td>31.099498</td>\n",
       "      <td>1</td>\n",
       "    </tr>\n",
       "    <tr>\n",
       "      <td>7</td>\n",
       "      <td>k403</td>\n",
       "      <td>Ramicane</td>\n",
       "      <td>Male</td>\n",
       "      <td>21</td>\n",
       "      <td>16</td>\n",
       "      <td>35</td>\n",
       "      <td>26.546993</td>\n",
       "      <td>1</td>\n",
       "    </tr>\n",
       "    <tr>\n",
       "      <td>8</td>\n",
       "      <td>k403</td>\n",
       "      <td>Ramicane</td>\n",
       "      <td>Male</td>\n",
       "      <td>21</td>\n",
       "      <td>16</td>\n",
       "      <td>40</td>\n",
       "      <td>24.365505</td>\n",
       "      <td>1</td>\n",
       "    </tr>\n",
       "    <tr>\n",
       "      <td>9</td>\n",
       "      <td>k403</td>\n",
       "      <td>Ramicane</td>\n",
       "      <td>Male</td>\n",
       "      <td>21</td>\n",
       "      <td>16</td>\n",
       "      <td>45</td>\n",
       "      <td>22.050126</td>\n",
       "      <td>1</td>\n",
       "    </tr>\n",
       "  </tbody>\n",
       "</table>\n",
       "</div>"
      ],
      "text/plain": [
       "  Mouse ID Drug Regimen   Sex  Age_months  Weight (g)  Timepoint  \\\n",
       "0     k403     Ramicane  Male          21          16          0   \n",
       "1     k403     Ramicane  Male          21          16          5   \n",
       "2     k403     Ramicane  Male          21          16         10   \n",
       "3     k403     Ramicane  Male          21          16         15   \n",
       "4     k403     Ramicane  Male          21          16         20   \n",
       "5     k403     Ramicane  Male          21          16         25   \n",
       "6     k403     Ramicane  Male          21          16         30   \n",
       "7     k403     Ramicane  Male          21          16         35   \n",
       "8     k403     Ramicane  Male          21          16         40   \n",
       "9     k403     Ramicane  Male          21          16         45   \n",
       "\n",
       "   Tumor Volume (mm3)  Metastatic Sites  \n",
       "0           45.000000                 0  \n",
       "1           38.825898                 0  \n",
       "2           35.014271                 1  \n",
       "3           34.223992                 1  \n",
       "4           32.997729                 1  \n",
       "5           33.464577                 1  \n",
       "6           31.099498                 1  \n",
       "7           26.546993                 1  \n",
       "8           24.365505                 1  \n",
       "9           22.050126                 1  "
      ]
     },
     "execution_count": 27,
     "metadata": {},
     "output_type": "execute_result"
    }
   ],
   "source": [
    "# Getting the duplicate mice by ID number that shows up for Mouse ID and Timepoint. \n",
    "\n",
    "complete_df = combine_df.drop_duplicates()\n",
    "complete_df_2 = combine_df.duplicated()\n",
    "#.duplicated then use unique if you want the list\n",
    "complete_df\n",
    "cmice = complete_df[\"Mouse ID\"].count()\n",
    "cmicen = complete_df[\"Mouse ID\"].nunique()\n",
    "\n",
    "dmice = complete_df[\"Mouse ID\"].count()\n",
    "dmicen = complete_df[\"Mouse ID\"].nunique()\n",
    "\n",
    "emice = complete_df.count()\n",
    "emicen = complete_df.nunique()\n",
    "\n",
    "fmice = complete_df.count()\n",
    "fmicen = complete_df.nunique()\n",
    "\n",
    "\n",
    "print(cmice)\n",
    "print(cmicen)\n",
    "\n",
    "print(dmice)\n",
    "print(dmicen)\n",
    "\n",
    "print(\".drop_duplicates and .duplicated both result in the same number of records and unique mice\")\n",
    "\n",
    "#print(emice)\n",
    "#print(emicen)\n",
    "\n",
    "#print(fmice)\n",
    "#print(fmicen)\n",
    "\n",
    "complete_df.head(10)\n"
   ]
  },
  {
   "cell_type": "markdown",
   "metadata": {},
   "source": [
    "## Summary Statistics"
   ]
  },
  {
   "cell_type": "code",
   "execution_count": 23,
   "metadata": {},
   "outputs": [
    {
     "data": {
      "text/html": [
       "<div>\n",
       "<style scoped>\n",
       "    .dataframe tbody tr th:only-of-type {\n",
       "        vertical-align: middle;\n",
       "    }\n",
       "\n",
       "    .dataframe tbody tr th {\n",
       "        vertical-align: top;\n",
       "    }\n",
       "\n",
       "    .dataframe thead th {\n",
       "        text-align: right;\n",
       "    }\n",
       "</style>\n",
       "<table border=\"1\" class=\"dataframe\">\n",
       "  <thead>\n",
       "    <tr style=\"text-align: right;\">\n",
       "      <th></th>\n",
       "      <th>Drug Regimen</th>\n",
       "      <th>Timepoint</th>\n",
       "      <th>mean</th>\n",
       "      <th>median</th>\n",
       "      <th>sem</th>\n",
       "      <th>std</th>\n",
       "      <th>var</th>\n",
       "    </tr>\n",
       "  </thead>\n",
       "  <tbody>\n",
       "    <tr>\n",
       "      <td>0</td>\n",
       "      <td>Ramicane</td>\n",
       "      <td>0</td>\n",
       "      <td>45.00</td>\n",
       "      <td>45.00</td>\n",
       "      <td>0.00</td>\n",
       "      <td>0.00</td>\n",
       "      <td>0.00</td>\n",
       "    </tr>\n",
       "    <tr>\n",
       "      <td>1</td>\n",
       "      <td>Ramicane</td>\n",
       "      <td>5</td>\n",
       "      <td>43.94</td>\n",
       "      <td>45.52</td>\n",
       "      <td>0.48</td>\n",
       "      <td>2.41</td>\n",
       "      <td>5.83</td>\n",
       "    </tr>\n",
       "    <tr>\n",
       "      <td>2</td>\n",
       "      <td>Ramicane</td>\n",
       "      <td>10</td>\n",
       "      <td>42.53</td>\n",
       "      <td>42.83</td>\n",
       "      <td>0.72</td>\n",
       "      <td>3.53</td>\n",
       "      <td>12.45</td>\n",
       "    </tr>\n",
       "    <tr>\n",
       "      <td>3</td>\n",
       "      <td>Ramicane</td>\n",
       "      <td>15</td>\n",
       "      <td>41.50</td>\n",
       "      <td>41.26</td>\n",
       "      <td>0.77</td>\n",
       "      <td>3.77</td>\n",
       "      <td>14.25</td>\n",
       "    </tr>\n",
       "    <tr>\n",
       "      <td>4</td>\n",
       "      <td>Ramicane</td>\n",
       "      <td>20</td>\n",
       "      <td>40.24</td>\n",
       "      <td>40.77</td>\n",
       "      <td>0.79</td>\n",
       "      <td>3.77</td>\n",
       "      <td>14.22</td>\n",
       "    </tr>\n",
       "    <tr>\n",
       "      <td>...</td>\n",
       "      <td>...</td>\n",
       "      <td>...</td>\n",
       "      <td>...</td>\n",
       "      <td>...</td>\n",
       "      <td>...</td>\n",
       "      <td>...</td>\n",
       "      <td>...</td>\n",
       "    </tr>\n",
       "    <tr>\n",
       "      <td>5</td>\n",
       "      <td>Naftisol</td>\n",
       "      <td>25</td>\n",
       "      <td>56.73</td>\n",
       "      <td>56.93</td>\n",
       "      <td>0.81</td>\n",
       "      <td>3.45</td>\n",
       "      <td>11.92</td>\n",
       "    </tr>\n",
       "    <tr>\n",
       "      <td>6</td>\n",
       "      <td>Naftisol</td>\n",
       "      <td>30</td>\n",
       "      <td>59.56</td>\n",
       "      <td>59.79</td>\n",
       "      <td>0.98</td>\n",
       "      <td>3.78</td>\n",
       "      <td>14.27</td>\n",
       "    </tr>\n",
       "    <tr>\n",
       "      <td>7</td>\n",
       "      <td>Naftisol</td>\n",
       "      <td>35</td>\n",
       "      <td>62.69</td>\n",
       "      <td>61.89</td>\n",
       "      <td>1.01</td>\n",
       "      <td>3.93</td>\n",
       "      <td>15.42</td>\n",
       "    </tr>\n",
       "    <tr>\n",
       "      <td>8</td>\n",
       "      <td>Naftisol</td>\n",
       "      <td>40</td>\n",
       "      <td>65.60</td>\n",
       "      <td>65.47</td>\n",
       "      <td>1.12</td>\n",
       "      <td>4.33</td>\n",
       "      <td>18.77</td>\n",
       "    </tr>\n",
       "    <tr>\n",
       "      <td>9</td>\n",
       "      <td>Naftisol</td>\n",
       "      <td>45</td>\n",
       "      <td>69.27</td>\n",
       "      <td>69.56</td>\n",
       "      <td>1.42</td>\n",
       "      <td>5.11</td>\n",
       "      <td>26.08</td>\n",
       "    </tr>\n",
       "  </tbody>\n",
       "</table>\n",
       "<p>100 rows × 7 columns</p>\n",
       "</div>"
      ],
      "text/plain": [
       "   Drug Regimen Timepoint   mean  median   sem   std    var\n",
       "0      Ramicane         0  45.00   45.00  0.00  0.00   0.00\n",
       "1      Ramicane         5  43.94   45.52  0.48  2.41   5.83\n",
       "2      Ramicane        10  42.53   42.83  0.72  3.53  12.45\n",
       "3      Ramicane        15  41.50   41.26  0.77  3.77  14.25\n",
       "4      Ramicane        20  40.24   40.77  0.79  3.77  14.22\n",
       "..          ...       ...    ...     ...   ...   ...    ...\n",
       "5      Naftisol        25  56.73   56.93  0.81  3.45  11.92\n",
       "6      Naftisol        30  59.56   59.79  0.98  3.78  14.27\n",
       "7      Naftisol        35  62.69   61.89  1.01  3.93  15.42\n",
       "8      Naftisol        40  65.60   65.47  1.12  4.33  18.77\n",
       "9      Naftisol        45  69.27   69.56  1.42  5.11  26.08\n",
       "\n",
       "[100 rows x 7 columns]"
      ]
     },
     "execution_count": 23,
     "metadata": {},
     "output_type": "execute_result"
    }
   ],
   "source": [
    "drug_list=complete_df['Drug Regimen'].unique()\n",
    "summary_all_drugs_df = pd.DataFrame()\n",
    "summary_all_drugs_df = pd.DataFrame(columns=['Drug Regimen','Timepoint', 'mean', 'median', 'var', 'std', 'sem'])\n",
    "\n",
    "for drug in drug_list:\n",
    "    \n",
    "    df_name = complete_df.loc[complete_df['Drug Regimen'] == drug]\n",
    "    df_summary = round(df_name.groupby(['Timepoint'])['Tumor Volume (mm3)'].agg(['mean', 'median', 'var', 'std', 'sem']), 2)\n",
    "    df_summary[\"Drug Regimen\"] = drug\n",
    "    df_summary.reset_index(inplace=True)\n",
    "    \n",
    "    summary_all_drugs_df = summary_all_drugs_df.append(df_summary) \n",
    "    pd.DataFrame(df_summary)\n",
    "\n",
    "summary_all_drugs_df"
   ]
  },
  {
   "cell_type": "code",
   "execution_count": 9,
   "metadata": {
    "scrolled": true
   },
   "outputs": [
    {
     "data": {
      "text/html": [
       "<div>\n",
       "<style scoped>\n",
       "    .dataframe tbody tr th:only-of-type {\n",
       "        vertical-align: middle;\n",
       "    }\n",
       "\n",
       "    .dataframe tbody tr th {\n",
       "        vertical-align: top;\n",
       "    }\n",
       "\n",
       "    .dataframe thead th {\n",
       "        text-align: right;\n",
       "    }\n",
       "</style>\n",
       "<table border=\"1\" class=\"dataframe\">\n",
       "  <thead>\n",
       "    <tr style=\"text-align: right;\">\n",
       "      <th></th>\n",
       "      <th>Drug Regimen</th>\n",
       "      <th>mean</th>\n",
       "      <th>median</th>\n",
       "      <th>var</th>\n",
       "      <th>std</th>\n",
       "      <th>sem</th>\n",
       "    </tr>\n",
       "  </thead>\n",
       "  <tbody>\n",
       "    <tr>\n",
       "      <td>0</td>\n",
       "      <td>Capomulin</td>\n",
       "      <td>40.68</td>\n",
       "      <td>41.56</td>\n",
       "      <td>24.95</td>\n",
       "      <td>4.99</td>\n",
       "      <td>0.33</td>\n",
       "    </tr>\n",
       "    <tr>\n",
       "      <td>1</td>\n",
       "      <td>Ceftamin</td>\n",
       "      <td>52.59</td>\n",
       "      <td>51.78</td>\n",
       "      <td>39.29</td>\n",
       "      <td>6.27</td>\n",
       "      <td>0.47</td>\n",
       "    </tr>\n",
       "    <tr>\n",
       "      <td>2</td>\n",
       "      <td>Infubinol</td>\n",
       "      <td>52.88</td>\n",
       "      <td>51.82</td>\n",
       "      <td>43.13</td>\n",
       "      <td>6.57</td>\n",
       "      <td>0.49</td>\n",
       "    </tr>\n",
       "    <tr>\n",
       "      <td>3</td>\n",
       "      <td>Ketapril</td>\n",
       "      <td>55.24</td>\n",
       "      <td>53.70</td>\n",
       "      <td>68.55</td>\n",
       "      <td>8.28</td>\n",
       "      <td>0.60</td>\n",
       "    </tr>\n",
       "    <tr>\n",
       "      <td>4</td>\n",
       "      <td>Naftisol</td>\n",
       "      <td>54.33</td>\n",
       "      <td>52.51</td>\n",
       "      <td>66.17</td>\n",
       "      <td>8.13</td>\n",
       "      <td>0.60</td>\n",
       "    </tr>\n",
       "  </tbody>\n",
       "</table>\n",
       "</div>"
      ],
      "text/plain": [
       "  Drug Regimen   mean  median    var   std   sem\n",
       "0    Capomulin  40.68   41.56  24.95  4.99  0.33\n",
       "1     Ceftamin  52.59   51.78  39.29  6.27  0.47\n",
       "2    Infubinol  52.88   51.82  43.13  6.57  0.49\n",
       "3     Ketapril  55.24   53.70  68.55  8.28  0.60\n",
       "4     Naftisol  54.33   52.51  66.17  8.13  0.60"
      ]
     },
     "execution_count": 9,
     "metadata": {},
     "output_type": "execute_result"
    }
   ],
   "source": [
    "# Generate a summary statistics table of mean, median, variance, standard deviation, and SEM of the tumor volume for each regimen\n",
    "drug_summary_df = round(complete_df.groupby(['Drug Regimen'])['Tumor Volume (mm3)'].agg(['mean', 'median', 'var', 'std', 'sem']), 2)\n",
    "drug_summary_df.reset_index(inplace=True)\n",
    "drug_summary_df.head()"
   ]
  },
  {
   "cell_type": "markdown",
   "metadata": {},
   "source": [
    "## Bar Plots"
   ]
  },
  {
   "cell_type": "code",
   "execution_count": 10,
   "metadata": {},
   "outputs": [
    {
     "data": {
      "image/png": "[encoded data removed]",
      "text/plain": [
       "<Figure size 432x288 with 1 Axes>"
      ]
     },
     "metadata": {
      "needs_background": "light"
     },
     "output_type": "display_data"
    }
   ],
   "source": [
    "# Generate a bar plot showing the number of mice per time point for each treatment throughout the course of the study using pandas. \n",
    "drug_group = complete_df.groupby(['Drug Regimen']).count()\n",
    "mouse_count_chart = drug_group[\"Mouse ID\"].plot(kind=\"bar\", use_index=True)\n",
    "plt.ylabel(\"Number of Data Points\")\n",
    "plt.tight_layout()\n",
    "plt.show()\n"
   ]
  },
  {
   "cell_type": "code",
   "execution_count": 11,
   "metadata": {},
   "outputs": [
    {
     "data": {
      "image/png": "[encoded data removed]",
      "text/plain": [
       "<Figure size 432x288 with 1 Axes>"
      ]
     },
     "metadata": {
      "needs_background": "light"
     },
     "output_type": "display_data"
    }
   ],
   "source": [
    "# Generate a bar plot showing the number of mice per time point for each treatment throughout the course of the study using pyplot.\n",
    "reindex_drug_group = drug_group.reset_index()\n",
    "mouse_count_chart_2 = plt.bar(reindex_drug_group[\"Drug Regimen\"], reindex_drug_group[\"Mouse ID\"])\n",
    "plt.xticks(rotation= 45)\n",
    "plt.tight_layout()\n",
    "plt.show()"
   ]
  },
  {
   "cell_type": "markdown",
   "metadata": {},
   "source": [
    "## Pie Plots"
   ]
  },
  {
   "cell_type": "code",
   "execution_count": 12,
   "metadata": {},
   "outputs": [
    {
     "data": {
      "image/png": "[encoded data removed]",
      "text/plain": [
       "<Figure size 432x288 with 1 Axes>"
      ]
     },
     "metadata": {},
     "output_type": "display_data"
    }
   ],
   "source": [
    "# Generate a pie plot showing the distribution of female versus male mice using pandas\n",
    "sex_grouped = complete_df.groupby(['Sex']).count()\n",
    "sex_pie_chart = sex_grouped[\"Mouse ID\"].plot(kind=\"pie\", title = \"Sex of Mice Distribution\", colors = [\"pink\", \"lightblue\"], autopct=\"%1.1f%%\")\n",
    "plt.tight_layout()\n",
    "plt.show()\n"
   ]
  },
  {
   "cell_type": "code",
   "execution_count": 13,
   "metadata": {},
   "outputs": [
    {
     "data": {
      "image/png": "[encoded data removed]",
      "text/plain": [
       "<Figure size 432x288 with 1 Axes>"
      ]
     },
     "metadata": {},
     "output_type": "display_data"
    }
   ],
   "source": [
    "# Generate a pie plot showing the distribution of female versus male mice using pyplot\n",
    "plt.pie(sex_grouped[\"Mouse ID\"], labels = [\"Female\", \"Male\"], colors = [\"pink\", \"lightblue\"], autopct=\"%1.1f%%\")\n",
    "plt.title(\"Sex of Mice Distribution\")\n",
    "plt.tight_layout()\n",
    "plt.show()\n"
   ]
  },
  {
   "cell_type": "markdown",
   "metadata": {},
   "source": [
    "## Quartiles, Outliers and Boxplots"
   ]
  },
  {
   "cell_type": "code",
   "execution_count": 14,
   "metadata": {},
   "outputs": [
    {
     "data": {
      "text/html": [
       "<div>\n",
       "<style scoped>\n",
       "    .dataframe tbody tr th:only-of-type {\n",
       "        vertical-align: middle;\n",
       "    }\n",
       "\n",
       "    .dataframe tbody tr th {\n",
       "        vertical-align: top;\n",
       "    }\n",
       "\n",
       "    .dataframe thead th {\n",
       "        text-align: right;\n",
       "    }\n",
       "</style>\n",
       "<table border=\"1\" class=\"dataframe\">\n",
       "  <thead>\n",
       "    <tr style=\"text-align: right;\">\n",
       "      <th></th>\n",
       "      <th>Drug Regimen</th>\n",
       "      <th>Age_months</th>\n",
       "      <th>Weight (g)</th>\n",
       "      <th>Timepoint</th>\n",
       "      <th>Tumor Volume (mm3)</th>\n",
       "      <th>Metastatic Sites</th>\n",
       "    </tr>\n",
       "  </thead>\n",
       "  <tbody>\n",
       "    <tr>\n",
       "      <td>0</td>\n",
       "      <td>Ramicane</td>\n",
       "      <td>10.840</td>\n",
       "      <td>20.000</td>\n",
       "      <td>40.600000</td>\n",
       "      <td>36.191390</td>\n",
       "      <td>1.200000</td>\n",
       "    </tr>\n",
       "    <tr>\n",
       "      <td>1</td>\n",
       "      <td>Capomulin</td>\n",
       "      <td>14.040</td>\n",
       "      <td>20.120</td>\n",
       "      <td>41.000000</td>\n",
       "      <td>36.667568</td>\n",
       "      <td>1.280000</td>\n",
       "    </tr>\n",
       "    <tr>\n",
       "      <td>2</td>\n",
       "      <td>Propriva</td>\n",
       "      <td>9.880</td>\n",
       "      <td>27.240</td>\n",
       "      <td>26.200000</td>\n",
       "      <td>56.736964</td>\n",
       "      <td>1.560000</td>\n",
       "    </tr>\n",
       "    <tr>\n",
       "      <td>3</td>\n",
       "      <td>Ceftamin</td>\n",
       "      <td>12.800</td>\n",
       "      <td>27.400</td>\n",
       "      <td>30.600000</td>\n",
       "      <td>57.753977</td>\n",
       "      <td>1.720000</td>\n",
       "    </tr>\n",
       "    <tr>\n",
       "      <td>4</td>\n",
       "      <td>Infubinol</td>\n",
       "      <td>16.400</td>\n",
       "      <td>27.320</td>\n",
       "      <td>30.600000</td>\n",
       "      <td>58.178246</td>\n",
       "      <td>1.600000</td>\n",
       "    </tr>\n",
       "    <tr>\n",
       "      <td>5</td>\n",
       "      <td>Zoniferol</td>\n",
       "      <td>12.600</td>\n",
       "      <td>27.920</td>\n",
       "      <td>31.400000</td>\n",
       "      <td>59.181258</td>\n",
       "      <td>2.000000</td>\n",
       "    </tr>\n",
       "    <tr>\n",
       "      <td>6</td>\n",
       "      <td>Placebo</td>\n",
       "      <td>10.680</td>\n",
       "      <td>28.040</td>\n",
       "      <td>31.200000</td>\n",
       "      <td>60.508414</td>\n",
       "      <td>2.080000</td>\n",
       "    </tr>\n",
       "    <tr>\n",
       "      <td>7</td>\n",
       "      <td>Stelasyn</td>\n",
       "      <td>13.125</td>\n",
       "      <td>27.875</td>\n",
       "      <td>32.708333</td>\n",
       "      <td>61.001707</td>\n",
       "      <td>1.458333</td>\n",
       "    </tr>\n",
       "    <tr>\n",
       "      <td>8</td>\n",
       "      <td>Naftisol</td>\n",
       "      <td>12.240</td>\n",
       "      <td>27.240</td>\n",
       "      <td>32.200000</td>\n",
       "      <td>61.205757</td>\n",
       "      <td>2.000000</td>\n",
       "    </tr>\n",
       "    <tr>\n",
       "      <td>9</td>\n",
       "      <td>Ketapril</td>\n",
       "      <td>14.720</td>\n",
       "      <td>28.080</td>\n",
       "      <td>32.600000</td>\n",
       "      <td>62.806191</td>\n",
       "      <td>1.920000</td>\n",
       "    </tr>\n",
       "  </tbody>\n",
       "</table>\n",
       "</div>"
      ],
      "text/plain": [
       "  Drug Regimen  Age_months  Weight (g)  Timepoint  Tumor Volume (mm3)  \\\n",
       "0     Ramicane      10.840      20.000  40.600000           36.191390   \n",
       "1    Capomulin      14.040      20.120  41.000000           36.667568   \n",
       "2     Propriva       9.880      27.240  26.200000           56.736964   \n",
       "3     Ceftamin      12.800      27.400  30.600000           57.753977   \n",
       "4    Infubinol      16.400      27.320  30.600000           58.178246   \n",
       "5    Zoniferol      12.600      27.920  31.400000           59.181258   \n",
       "6      Placebo      10.680      28.040  31.200000           60.508414   \n",
       "7     Stelasyn      13.125      27.875  32.708333           61.001707   \n",
       "8     Naftisol      12.240      27.240  32.200000           61.205757   \n",
       "9     Ketapril      14.720      28.080  32.600000           62.806191   \n",
       "\n",
       "   Metastatic Sites  \n",
       "0          1.200000  \n",
       "1          1.280000  \n",
       "2          1.560000  \n",
       "3          1.720000  \n",
       "4          1.600000  \n",
       "5          2.000000  \n",
       "6          2.080000  \n",
       "7          1.458333  \n",
       "8          2.000000  \n",
       "9          1.920000  "
      ]
     },
     "execution_count": 14,
     "metadata": {},
     "output_type": "execute_result"
    }
   ],
   "source": [
    "# Find the top four drugs\n",
    "mouse_id_grouped = complete_df.groupby(['Mouse ID'])['Timepoint'].agg(['max'])\n",
    "mouse_id_grouped.reset_index(inplace=True)\n",
    "final_tumors = pd.merge(mouse_id_grouped, complete_df, left_on=[\"Mouse ID\", \"max\"], right_on=[\"Mouse ID\", \"Timepoint\"], how=\"inner\")\n",
    "final_tumors = final_tumors.drop(\"max\", 1)\n",
    "\n",
    "final_tumors_mean = final_tumors.groupby(['Drug Regimen']).mean().sort_values(['Tumor Volume (mm3)'])\n",
    "final_tumors_mean.reset_index(inplace=True)\n",
    "final_tumors_mean\n"
   ]
  },
  {
   "cell_type": "markdown",
   "metadata": {},
   "source": [
    "The most promising drugs based on the mean tumor size are Ramicane, Capomulin, Propriva and Ceftamin. Propriva may have artifically low final tumor volumes because the average end timepoint of those mice was 26. Therefore Infubinal was select to be in the \"top four\" because it had the fifth smallest final tumor volume and the average end timepoint of 30. It is nesscary to note the \"top four\" all had lower tumor volumes and longer timepoints than the Placebo"
   ]
  },
  {
   "cell_type": "code",
   "execution_count": 15,
   "metadata": {},
   "outputs": [
    {
     "name": "stdout",
     "output_type": "stream",
     "text": [
      "36.32 is an outlier\n"
     ]
    },
    {
     "data": {
      "text/html": [
       "<div>\n",
       "<style scoped>\n",
       "    .dataframe tbody tr th:only-of-type {\n",
       "        vertical-align: middle;\n",
       "    }\n",
       "\n",
       "    .dataframe tbody tr th {\n",
       "        vertical-align: top;\n",
       "    }\n",
       "\n",
       "    .dataframe thead th {\n",
       "        text-align: right;\n",
       "    }\n",
       "</style>\n",
       "<table border=\"1\" class=\"dataframe\">\n",
       "  <thead>\n",
       "    <tr style=\"text-align: right;\">\n",
       "      <th></th>\n",
       "      <th>Drug Regimen</th>\n",
       "      <th>Lower Quartile</th>\n",
       "      <th>Upper Quartile</th>\n",
       "      <th>Inner Quartile Range</th>\n",
       "      <th>Lower Bound</th>\n",
       "      <th>Upper Bound</th>\n",
       "    </tr>\n",
       "  </thead>\n",
       "  <tbody>\n",
       "    <tr>\n",
       "      <td>0</td>\n",
       "      <td>Ramicane</td>\n",
       "      <td>31.560470</td>\n",
       "      <td>40.659006</td>\n",
       "      <td>9.098537</td>\n",
       "      <td>17.912664</td>\n",
       "      <td>54.306811</td>\n",
       "    </tr>\n",
       "    <tr>\n",
       "      <td>1</td>\n",
       "      <td>Capomulin</td>\n",
       "      <td>32.377357</td>\n",
       "      <td>40.159220</td>\n",
       "      <td>7.781863</td>\n",
       "      <td>20.704562</td>\n",
       "      <td>51.832015</td>\n",
       "    </tr>\n",
       "    <tr>\n",
       "      <td>2</td>\n",
       "      <td>Propriva</td>\n",
       "      <td>49.122969</td>\n",
       "      <td>62.570880</td>\n",
       "      <td>13.447911</td>\n",
       "      <td>28.951103</td>\n",
       "      <td>82.742746</td>\n",
       "    </tr>\n",
       "    <tr>\n",
       "      <td>3</td>\n",
       "      <td>Infubinal</td>\n",
       "      <td>54.048608</td>\n",
       "      <td>65.525743</td>\n",
       "      <td>11.477135</td>\n",
       "      <td>36.832905</td>\n",
       "      <td>82.741446</td>\n",
       "    </tr>\n",
       "  </tbody>\n",
       "</table>\n",
       "</div>"
      ],
      "text/plain": [
       "  Drug Regimen  Lower Quartile  Upper Quartile  Inner Quartile Range  \\\n",
       "0     Ramicane       31.560470       40.659006              9.098537   \n",
       "1    Capomulin       32.377357       40.159220              7.781863   \n",
       "2     Propriva       49.122969       62.570880             13.447911   \n",
       "3    Infubinal       54.048608       65.525743             11.477135   \n",
       "\n",
       "   Lower Bound  Upper Bound  \n",
       "0    17.912664    54.306811  \n",
       "1    20.704562    51.832015  \n",
       "2    28.951103    82.742746  \n",
       "3    36.832905    82.741446  "
      ]
     },
     "execution_count": 15,
     "metadata": {},
     "output_type": "execute_result"
    }
   ],
   "source": [
    "#Find final tumor volumes for top four drugs\n",
    "#calculate IQR, Outliers and related stats\n",
    "\n",
    "final_ramicane = final_tumors.loc[final_tumors['Drug Regimen'] == 'Ramicane']\n",
    "final_capomulin = final_tumors.loc[final_tumors['Drug Regimen'] == 'Capomulin']\n",
    "final_propriva = final_tumors.loc[final_tumors['Drug Regimen'] == 'Propriva']\n",
    "final_infubinol  = final_tumors.loc[final_tumors['Drug Regimen'] == 'Infubinol']\n",
    "\n",
    "\n",
    "data = [final_ramicane['Tumor Volume (mm3)'], final_capomulin['Tumor Volume (mm3)'], final_propriva['Tumor Volume (mm3)'], final_infubinol['Tumor Volume (mm3)']]\n",
    "top_four_drug_list = ['Ramicane', 'Capomulin', 'Propriva', 'Infubinal']\n",
    "lowerq_list = []\n",
    "upperq_list = []\n",
    "iqr_list = []\n",
    "lower_bound_list = []\n",
    "upper_bound_list = []\n",
    "\n",
    "\n",
    "iqr_df = pd.DataFrame()\n",
    "iqr_df = pd.DataFrame(columns=['Drug Regimen','Lower Quartile', 'Lower Quartile', 'Inner Quartile Range', 'Outliers'])\n",
    "\n",
    "for drug in data:\n",
    "    quartiles = drug.quantile([.25,.5,.75])\n",
    "    lowerq = quartiles[0.25]\n",
    "    upperq = quartiles[0.75]\n",
    "    iqr = upperq-lowerq\n",
    "    lower_bound = lowerq - (1.5*iqr)\n",
    "    upper_bound = upperq + (1.5*iqr)\n",
    "    lowerq_list.append(lowerq)\n",
    "    upperq_list.append(upperq)\n",
    "    iqr_list.append(iqr)\n",
    "    lower_bound_list.append(lower_bound)\n",
    "    upper_bound_list.append(upper_bound)\n",
    "    \n",
    "    for data_pt in drug:\n",
    "        if (data_pt < lower_bound) | (data_pt > upper_bound):\n",
    "            print(str(round(data_pt, 2)) + \" is an outlier\")\n",
    "       \n",
    "iqr_list_list = list(zip(top_four_drug_list, lowerq_list, upperq_list, iqr_list, lower_bound_list, upper_bound_list))    \n",
    "iqr_df = pd.DataFrame(iqr_list_list, columns=['Drug Regimen','Lower Quartile', 'Upper Quartile', 'Inner Quartile Range', 'Lower Bound', 'Upper Bound'])\n",
    "\n",
    "iqr_df"
   ]
  },
  {
   "cell_type": "code",
   "execution_count": 16,
   "metadata": {},
   "outputs": [
    {
     "data": {
      "image/png": "[encoded data removed]",
      "text/plain": [
       "<Figure size 432x288 with 1 Axes>"
      ]
     },
     "metadata": {
      "needs_background": "light"
     },
     "output_type": "display_data"
    }
   ],
   "source": [
    "#Create Box Plot\n",
    "\n",
    "fig1, ax1 = plt.subplots()\n",
    "ax1.set_title('Top Four Drugs Final Tumor Volume')\n",
    "ax1.set_ylabel('Final Tumor Volume (mm3)')\n",
    "ax1.xaxis.set_ticks([0,0,0,0])\n",
    "ax1.set_xlabel(top_four_drug_list)\n",
    "ax1.boxplot(data, sym = \"r\")\n",
    "plt.show()"
   ]
  },
  {
   "cell_type": "markdown",
   "metadata": {},
   "source": [
    "## Line and Scatter Plots"
   ]
  },
  {
   "cell_type": "code",
   "execution_count": 17,
   "metadata": {},
   "outputs": [
    {
     "data": {
      "image/png": "[encoded data removed]",
      "text/plain": [
       "<Figure size 432x288 with 1 Axes>"
      ]
     },
     "metadata": {
      "needs_background": "light"
     },
     "output_type": "display_data"
    }
   ],
   "source": [
    "# Generate a line plot of time point versus tumor volume for a mouse treated with Capomulin\n",
    "\n",
    "mouse_b128 = complete_df.loc[complete_df['Mouse ID'] == \"b128\"]\n",
    "mouse_b128.plot(\"Timepoint\", \"Tumor Volume (mm3)\", title=\"Mouse b128\", label = \"Tumor Volume (mm3)\")\n",
    "\n",
    "plt.show()"
   ]
  },
  {
   "cell_type": "code",
   "execution_count": 18,
   "metadata": {},
   "outputs": [
    {
     "data": {
      "image/png": "[encoded data removed]",
      "text/plain": [
       "<Figure size 432x288 with 1 Axes>"
      ]
     },
     "metadata": {
      "needs_background": "light"
     },
     "output_type": "display_data"
    }
   ],
   "source": [
    "# Generate a scatter plot of mouse weight versus average tumor volume for the Capomulin regimen\n",
    "\n",
    "capomulin_mice = complete_df.loc[complete_df['Drug Regimen'] == \"Capomulin\"]\n",
    "capomulin_mouse_weight = capomulin_mice.groupby(['Mouse ID'])['Weight (g)'].agg([\"mean\"])\n",
    "capomulin_mouse_weight.reset_index(inplace=True)\n",
    "capomulin_mouse_ID = round(capomulin_mice.groupby(['Mouse ID'])['Tumor Volume (mm3)'].agg(['mean']), 2)\n",
    "capomulin_mouse_ID.reset_index(inplace=True)\n",
    "\n",
    "capomulin_combo = pd.merge(capomulin_mouse_weight, capomulin_mouse_ID, on=\"Mouse ID\")\n",
    "capomulin_combo = capomulin_combo.rename(columns={\"mean_x\": \"Weight (g)\", \"mean_y\": \"Tumor Volume (mm3)\"})\n",
    "\n",
    "capomulin_combo.plot(\"Weight (g)\", \"Tumor Volume (mm3)\", kind= \"scatter\", title = \"Mouse Weight vs Avg Tumor Volume\")\n",
    "plt.show()\n"
   ]
  },
  {
   "cell_type": "markdown",
   "metadata": {},
   "source": [
    "## Correlation and Regression"
   ]
  },
  {
   "cell_type": "code",
   "execution_count": 19,
   "metadata": {},
   "outputs": [
    {
     "name": "stdout",
     "output_type": "stream",
     "text": [
      "correlation coefficient = 0.84\n",
      "y = 0.95x + 21.56\n"
     ]
    }
   ],
   "source": [
    "# Calculate the correlation coefficient and linear regression model \n",
    "# for mouse weight and average tumor volume for the Capomulin regimen\n",
    "\n",
    "(slope, intercept, rvalue, pvalue, stderr) = linregress(capomulin_combo[\"Weight (g)\"], capomulin_combo[\"Tumor Volume (mm3)\"])\n",
    "r = round(rvalue, 2)\n",
    "slope_s = str(round(slope, 2))\n",
    "intercept_s = str(round(intercept, 2))\n",
    "line_eq = \"y = \" + slope_s + \"x\" + \" + \" + intercept_s\n",
    "string_r = \"correlation coefficient = \" + str(r)\n",
    "print(string_r)\n",
    "print(line_eq)"
   ]
  },
  {
   "cell_type": "code",
   "execution_count": 20,
   "metadata": {},
   "outputs": [
    {
     "data": {
      "image/png": "[encoded data removed]",
      "text/plain": [
       "<Figure size 432x288 with 1 Axes>"
      ]
     },
     "metadata": {
      "needs_background": "light"
     },
     "output_type": "display_data"
    }
   ],
   "source": [
    "x_w = capomulin_combo[\"Weight (g)\"]\n",
    "plt.plot(x_w, slope*x_w + intercept, color=\"r\")\n",
    "plt.scatter(x_w, capomulin_combo[\"Tumor Volume (mm3)\"])\n",
    "plt.title('\"Mouse Weight vs Avg Tumor Volume\"')\n",
    "plt.xlabel('Weight (g)')\n",
    "plt.ylabel('Tumor Volume (mm3)')\n",
    "plt.annotate(line_eq,(20,36),fontsize=15,color=\"red\")\n",
    "plt.annotate(\"r = \"+ str(r),(21,38),fontsize=15,color=\"red\")\n",
    "plt.show()"
   ]
  },
  {
   "cell_type": "code",
   "execution_count": null,
   "metadata": {},
   "outputs": [],
   "source": []
  }
 ],
 "metadata": {
  "anaconda-cloud": {},
  "kernelspec": {
   "display_name": "Python 3",
   "language": "python",
   "name": "python3"
  },
  "language_info": {
   "codemirror_mode": {
    "name": "ipython",
    "version": 3
   },
   "file_extension": ".py",
   "mimetype": "text/x-python",
   "name": "python",
   "nbconvert_exporter": "python",
   "pygments_lexer": "ipython3",
   "version": "3.7.4"
  }
 },
 "nbformat": 4,
 "nbformat_minor": 2
}
